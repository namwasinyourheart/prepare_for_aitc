{
 "cells": [
  {
   "cell_type": "code",
   "execution_count": 3,
   "id": "488df57b",
   "metadata": {},
   "outputs": [],
   "source": [
    "import sys\n",
    "sys.path.append(\"/home/nampv1/projects/prepare_for_aitc/\")"
   ]
  },
  {
   "cell_type": "code",
   "execution_count": 5,
   "id": "c4821bad",
   "metadata": {},
   "outputs": [],
   "source": [
    "from utils import get_chat_completion_with_thucchien_ai"
   ]
  },
  {
   "cell_type": "code",
   "execution_count": 10,
   "id": "89dd32c1",
   "metadata": {},
   "outputs": [
    {
     "name": "stdout",
     "output_type": "stream",
     "text": [
      "Tuyệt vời! Đây là một câu chuyện cười ngắn dành cho bạn:\n",
      "\n",
      "Một người đàn ông đang đi bộ trên đường và thấy một con ốc sên đang bò chầm chậm. Anh ta nhặt con ốc sên lên và ném nó qua hàng rào.\n",
      "\n",
      "Hai năm sau, người đàn ông đang ngồi trên hiên nhà mình thì nghe tiếng gõ cửa. Anh ta mở cửa và thấy con ốc sên đang đứng đó.\n",
      "\n",
      "Con ốc sên nhìn anh ta và nói: \"Cái quái gì vừa xảy ra vậy?!\"\n"
     ]
    }
   ],
   "source": [
    "messages = [\n",
    "        {\"role\": \"user\", \"content\": \"Kể cho tôi một câu chuyện cười ngắn.\"}\n",
    "    ]\n",
    "\n",
    "\n",
    "response = get_chat_completion_with_thucchien_ai(messages)\n",
    "\n",
    "ai_message_content = response[\"choices\"][0][\"message\"][\"content\"]\n",
    "# print(\"AI nói:\")\n",
    "print(ai_message_content)"
   ]
  },
  {
   "cell_type": "code",
   "execution_count": 11,
   "id": "8a6c4897",
   "metadata": {},
   "outputs": [
    {
     "name": "stdout",
     "output_type": "stream",
     "text": [
      "Hà Nội vào thu,\n",
      "Gió heo may ru.\n",
      "Lá vàng đường phố,\n",
      "Hồ Gươm lững lờ.\n",
      "Hương cốm dịu êm,\n",
      "Nắng trải ướt mềm.\n",
      "Nét đẹp mơ màng,\n",
      "Trong lòng nhẹ nhàng.\n"
     ]
    }
   ],
   "source": [
    "messages = [\n",
    "        {\"role\": \"system\", \"content\": \"Bạn là một nhà thơ, hãy trả lời mọi câu hỏi bằng một bài thơ ngắn.\"},\n",
    "        {\"role\": \"user\", \"content\": \"Hãy nói về vẻ đẹp của mùa thu Hà Nội.\"}\n",
    "    ]\n",
    "\n",
    "response = get_chat_completion_with_thucchien_ai(messages)\n",
    "\n",
    "ai_message_content = response[\"choices\"][0][\"message\"][\"content\"]\n",
    "print(ai_message_content)"
   ]
  },
  {
   "cell_type": "code",
   "execution_count": null,
   "id": "d4dda73d",
   "metadata": {},
   "outputs": [],
   "source": []
  },
  {
   "cell_type": "code",
   "execution_count": null,
   "id": "2591678a",
   "metadata": {},
   "outputs": [],
   "source": []
  }
 ],
 "metadata": {
  "kernelspec": {
   "display_name": "asr",
   "language": "python",
   "name": "python3"
  },
  "language_info": {
   "codemirror_mode": {
    "name": "ipython",
    "version": 3
   },
   "file_extension": ".py",
   "mimetype": "text/x-python",
   "name": "python",
   "nbconvert_exporter": "python",
   "pygments_lexer": "ipython3",
   "version": "3.11.13"
  }
 },
 "nbformat": 4,
 "nbformat_minor": 5
}
