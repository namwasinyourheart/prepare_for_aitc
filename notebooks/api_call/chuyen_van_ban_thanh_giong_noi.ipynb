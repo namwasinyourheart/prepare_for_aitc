{
 "cells": [
  {
   "cell_type": "code",
   "execution_count": 1,
   "id": "1b101f66",
   "metadata": {},
   "outputs": [],
   "source": [
    "import sys\n",
    "sys.path.append(\"/home/nampv1/projects/prepare_for_aitc/\")"
   ]
  },
  {
   "cell_type": "code",
   "execution_count": 2,
   "id": "02e4a83d",
   "metadata": {},
   "outputs": [],
   "source": [
    "from src.api_services.btc_api_client import *"
   ]
  },
  {
   "cell_type": "code",
   "execution_count": 4,
   "id": "add24570",
   "metadata": {},
   "outputs": [],
   "source": [
    "import os\n",
    "# Đảm bảo thư mục lưu trữ tồn tại\n",
    "api_results_dir = \"/home/nampv1/projects/prepare_for_aitc/cooking/api_results\"\n",
    "output_audio_dir = os.path.join(api_results_dir, \"chuyen_van_ban_thanh_giong_noi\")\n",
    "os.makedirs(output_audio_dir, exist_ok=True)"
   ]
  },
  {
   "cell_type": "code",
   "execution_count": 6,
   "id": "636dabb2",
   "metadata": {},
   "outputs": [
    {
     "name": "stderr",
     "output_type": "stream",
     "text": [
      "[2025-10-23 11:01:02,341] INFO - {\"timestamp\": \"2025-10-23T11:01:02.341560\", \"interaction_id\": \"2d660319-0822-4ddf-b9db-c2b9f9e5a910\", \"type\": \"request\", \"api_function\": \"chuyen_van_ban_thanh_giong_noi\", \"data\": {\"url\": \"(URL not available for logging)\", \"headers\": {}, \"payload\": {\"model\": \"gemini-2.5-flash-preview-tts\", \"input_text\": \"Xin chào, đây là một thử nghiệm chuyển văn bản thành giọng nói qua AI Thực Chiến gateway.\", \"voice\": \"Zephyr\"}, \"file_path\": \"/home/nampv1/projects/prepare_for_aitc/cooking/api_results/chuyen_van_ban_thanh_giong_noi/hello.mp3\"}}\n",
      "[2025-10-23 11:01:02,898] INFO - {\"timestamp\": \"2025-10-23T11:01:02.898571\", \"interaction_id\": \"2d660319-0822-4ddf-b9db-c2b9f9e5a910\", \"type\": \"response\", \"api_function\": \"chuyen_van_ban_thanh_giong_noi\", \"data\": {\"status\": \"success\", \"result\": {\"success\": true, \"message\": \"File âm thanh đã được tải về thành công tại: /home/nampv1/projects/prepare_for_aitc/cooking/api_results/chuyen_van_ban_thanh_giong_noi/hello.mp3\"}, \"saved_file\": \"/home/nampv1/projects/prepare_for_aitc/cooking/api_results/chuyen_van_ban_thanh_giong_noi/hello.mp3\"}}\n"
     ]
    },
    {
     "name": "stdout",
     "output_type": "stream",
     "text": [
      "File âm thanh đã được tải về thành công tại: /home/nampv1/projects/prepare_for_aitc/cooking/api_results/chuyen_van_ban_thanh_giong_noi/hello.mp3\n",
      "Hoàn tất quy trình chuyển văn bản thành giọng nói.\n"
     ]
    }
   ],
   "source": [
    "\n",
    "text_to_convert = \"Xin chào, đây là một thử nghiệm chuyển văn bản thành giọng nói qua AI Thực Chiến gateway.\"\n",
    "filename = \"hello.mp3\"\n",
    "output_audio_filepath = os.path.join(output_audio_dir, filename)\n",
    "\n",
    "try:\n",
    "    speech_result = chuyen_van_ban_thanh_giong_noi(\n",
    "        model=\"gemini-2.5-flash-preview-tts\",\n",
    "        input_text=text_to_convert,\n",
    "        voice=\"Zephyr\",\n",
    "        file_path=output_audio_filepath\n",
    "    )\n",
    "    print(speech_result.get(\"message\", \"Lỗi không xác định khi chuyển văn bản thành giọng nói.\"))\n",
    "    if \"error\" in speech_result:\n",
    "        print(f\"Chi tiết lỗi: {speech_result.get('details', 'Không có chi tiết.')}\")\n",
    "except Exception as e:\n",
    "    print(f\"Lỗi nghiêm trọng khi gọi hàm chuyen_van_ban_thanh_giong_noi: {e}\")\n",
    "\n",
    "print(\"Hoàn tất quy trình chuyển văn bản thành giọng nói.\")"
   ]
  },
  {
   "cell_type": "code",
   "execution_count": null,
   "id": "b59b6fe2",
   "metadata": {},
   "outputs": [],
   "source": []
  }
 ],
 "metadata": {
  "kernelspec": {
   "display_name": "asr",
   "language": "python",
   "name": "python3"
  },
  "language_info": {
   "codemirror_mode": {
    "name": "ipython",
    "version": 3
   },
   "file_extension": ".py",
   "mimetype": "text/x-python",
   "name": "python",
   "nbconvert_exporter": "python",
   "pygments_lexer": "ipython3",
   "version": "3.11.13"
  }
 },
 "nbformat": 4,
 "nbformat_minor": 5
}
