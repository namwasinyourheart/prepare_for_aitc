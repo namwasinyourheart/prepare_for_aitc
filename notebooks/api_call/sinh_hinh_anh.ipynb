{
 "cells": [
  {
   "cell_type": "code",
   "execution_count": 3,
   "id": "4c374e48",
   "metadata": {},
   "outputs": [
    {
     "name": "stdout",
     "output_type": "stream",
     "text": [
      "/home/nampv1/projects/prepare_for_aitc\n"
     ]
    }
   ],
   "source": [
    "cd /home/nampv1/projects/prepare_for_aitc/"
   ]
  },
  {
   "cell_type": "code",
   "execution_count": 4,
   "id": "c224f28e",
   "metadata": {},
   "outputs": [],
   "source": [
    "import sys\n",
    "sys.path.append(\"/home/nampv1/projects/prepare_for_aitc/\")"
   ]
  },
  {
   "cell_type": "code",
   "execution_count": 5,
   "id": "07920401",
   "metadata": {},
   "outputs": [],
   "source": [
    "from src.api_services.btc_api_client import *"
   ]
  },
  {
   "cell_type": "markdown",
   "id": "727756d8",
   "metadata": {},
   "source": [
    "### sinh_hinh_anh"
   ]
  },
  {
   "cell_type": "code",
   "execution_count": 6,
   "id": "9e888b06",
   "metadata": {},
   "outputs": [],
   "source": [
    "import os\n",
    "api_results_dir = \"/home/nampv1/projects/prepare_for_aitc/cooking/api_results\""
   ]
  },
  {
   "cell_type": "code",
   "execution_count": null,
   "id": "f7b351ef",
   "metadata": {},
   "outputs": [],
   "source": [
    "filename = \"direct_image_lake.png\"\n",
    "output_image_path = os.path.join(api_results_dir, \"sinh_hinh_anh\", filename)\n",
    "os.makedirs(os.path.dirname(output_image_path), exist_ok=True) # Đảm bảo thư mục tồn tại\n",
    "\n",
    "response_direct_image = sinh_hinh_anh(\n",
    "    prompt=\"Hồ nước trong vắt phản chiếu bầu trời sao, bao quanh bởi những cây cầu gỗ nhỏ và đèn lồng lung linh, phong cảnh thần tiên, chi tiết cực cao\",\n",
    "    file_path=output_image_path,\n",
    "    model=\"imagen-4\",\n",
    "    aspect_ratio=\"16:9\"\n",
    ")\n",
    ")\n",
    "print(response_direct_image)\n"
   ]
  }
 ],
 "metadata": {
  "kernelspec": {
   "display_name": "asr",
   "language": "python",
   "name": "python3"
  },
  "language_info": {
   "codemirror_mode": {
    "name": "ipython",
    "version": 3
   },
   "file_extension": ".py",
   "mimetype": "text/x-python",
   "name": "python",
   "nbconvert_exporter": "python",
   "pygments_lexer": "ipython3",
   "version": "3.11.13"
  }
 },
 "nbformat": 4,
 "nbformat_minor": 5
}
