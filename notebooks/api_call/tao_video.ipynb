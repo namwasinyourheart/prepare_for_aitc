{
 "cells": [
  {
   "cell_type": "code",
   "execution_count": 2,
   "id": "1b101f66",
   "metadata": {},
   "outputs": [],
   "source": [
    "import sys\n",
    "sys.path.append(\"/home/nampv1/projects/prepare_for_aitc/\")"
   ]
  },
  {
   "cell_type": "code",
   "execution_count": 3,
   "id": "02e4a83d",
   "metadata": {},
   "outputs": [],
   "source": [
    "from src.api_services.btc_api_client import *"
   ]
  },
  {
   "cell_type": "code",
   "execution_count": 8,
   "id": "ea4d9349",
   "metadata": {},
   "outputs": [],
   "source": [
    "import os\n",
    "import base64\n",
    "import time"
   ]
  },
  {
   "cell_type": "markdown",
   "id": "d8f47d80",
   "metadata": {},
   "source": [
    "### tao_video_chi_tu_van_ban"
   ]
  },
  {
   "cell_type": "code",
   "execution_count": null,
   "id": "e8429888",
   "metadata": {},
   "outputs": [],
   "source": [
    "# Ví dụ tạo video chỉ với prompt\n",
    "# response_video_gen = tao_video(\n",
    "#     model=\"veo-3.0-generate-001\",\n",
    "#     prompt=\"\",\n",
    "#     negative_prompt=\"blurry, low quality\",\n",
    "#     aspect_ratio=\"16:9\",\n",
    "#     resolution=\"720p\",\n",
    "#     person_generation=\"allow_all\"\n",
    "# )\n",
    "# print(response_video_gen)"
   ]
  },
  {
   "cell_type": "markdown",
   "id": "abef04ab",
   "metadata": {},
   "source": [
    "### tao_video_tu_anh"
   ]
  },
  {
   "cell_type": "code",
   "execution_count": 5,
   "id": "b59b6fe2",
   "metadata": {},
   "outputs": [
    {
     "ename": "FileNotFoundError",
     "evalue": "[Errno 2] No such file or directory: 'path/to/your/image.png'",
     "output_type": "error",
     "traceback": [
      "\u001b[31m---------------------------------------------------------------------------\u001b[39m",
      "\u001b[31mFileNotFoundError\u001b[39m                         Traceback (most recent call last)",
      "\u001b[36mCell\u001b[39m\u001b[36m \u001b[39m\u001b[32mIn[5]\u001b[39m\u001b[32m, line 3\u001b[39m\n\u001b[32m      1\u001b[39m image_path = \u001b[33m\"\u001b[39m\u001b[33mpath/to/your/image.png\u001b[39m\u001b[33m\"\u001b[39m\n\u001b[32m----> \u001b[39m\u001b[32m3\u001b[39m image_data_base64 = base64.b64encode(\u001b[38;5;28;43mopen\u001b[39;49m\u001b[43m(\u001b[49m\u001b[43mimage_path\u001b[49m\u001b[43m,\u001b[49m\u001b[43m \u001b[49m\u001b[33;43m\"\u001b[39;49m\u001b[33;43mrb\u001b[39;49m\u001b[33;43m\"\u001b[39;49m\u001b[43m)\u001b[49m.read()).decode(\u001b[33m\"\u001b[39m\u001b[33mutf-8\u001b[39m\u001b[33m\"\u001b[39m)\n\u001b[32m      4\u001b[39m \u001b[38;5;66;03m# image_data_base64_placeholder = \"iVBORw0KGgoAAAANSUhEUgAAAAEAAAABCAQAAAC1HAwCAAAAC0lEQVR42mNkYAAAAAYAAjCB0C8AAAAASUVORK5CYII=\" # Placeholder cho ảnh 1x1 pixel trắng\u001b[39;00m\n\u001b[32m      6\u001b[39m image_input = {\n\u001b[32m      7\u001b[39m     \u001b[33m\"\u001b[39m\u001b[33mbytesBase64Encoded\u001b[39m\u001b[33m\"\u001b[39m: image_data_base64,\n\u001b[32m      8\u001b[39m     \u001b[33m\"\u001b[39m\u001b[33mmimeType\u001b[39m\u001b[33m\"\u001b[39m: \u001b[33m\"\u001b[39m\u001b[33mimage/png\u001b[39m\u001b[33m\"\u001b[39m\n\u001b[32m      9\u001b[39m }\n",
      "\u001b[36mFile \u001b[39m\u001b[32m~/anaconda3/envs/asr/lib/python3.11/site-packages/IPython/core/interactiveshell.py:343\u001b[39m, in \u001b[36m_modified_open\u001b[39m\u001b[34m(file, *args, **kwargs)\u001b[39m\n\u001b[32m    336\u001b[39m \u001b[38;5;28;01mif\u001b[39;00m file \u001b[38;5;129;01min\u001b[39;00m {\u001b[32m0\u001b[39m, \u001b[32m1\u001b[39m, \u001b[32m2\u001b[39m}:\n\u001b[32m    337\u001b[39m     \u001b[38;5;28;01mraise\u001b[39;00m \u001b[38;5;167;01mValueError\u001b[39;00m(\n\u001b[32m    338\u001b[39m         \u001b[33mf\u001b[39m\u001b[33m\"\u001b[39m\u001b[33mIPython won\u001b[39m\u001b[33m'\u001b[39m\u001b[33mt let you open fd=\u001b[39m\u001b[38;5;132;01m{\u001b[39;00mfile\u001b[38;5;132;01m}\u001b[39;00m\u001b[33m by default \u001b[39m\u001b[33m\"\u001b[39m\n\u001b[32m    339\u001b[39m         \u001b[33m\"\u001b[39m\u001b[33mas it is likely to crash IPython. If you know what you are doing, \u001b[39m\u001b[33m\"\u001b[39m\n\u001b[32m    340\u001b[39m         \u001b[33m\"\u001b[39m\u001b[33myou can use builtins\u001b[39m\u001b[33m'\u001b[39m\u001b[33m open.\u001b[39m\u001b[33m\"\u001b[39m\n\u001b[32m    341\u001b[39m     )\n\u001b[32m--> \u001b[39m\u001b[32m343\u001b[39m \u001b[38;5;28;01mreturn\u001b[39;00m \u001b[43mio_open\u001b[49m\u001b[43m(\u001b[49m\u001b[43mfile\u001b[49m\u001b[43m,\u001b[49m\u001b[43m \u001b[49m\u001b[43m*\u001b[49m\u001b[43margs\u001b[49m\u001b[43m,\u001b[49m\u001b[43m \u001b[49m\u001b[43m*\u001b[49m\u001b[43m*\u001b[49m\u001b[43mkwargs\u001b[49m\u001b[43m)\u001b[49m\n",
      "\u001b[31mFileNotFoundError\u001b[39m: [Errno 2] No such file or directory: 'path/to/your/image.png'"
     ]
    }
   ],
   "source": [
    "image_path = \"path/to/your/image.png\"\n",
    "\n",
    "image_data_base64 = base64.b64encode(open(image_path, \"rb\").read()).decode(\"utf-8\")\n",
    "# image_data_base64_placeholder = \"iVBORw0KGgoAAAANSUhEUgAAAAEAAAABCAQAAAC1HAwCAAAAC0lEQVR42mNkYAAAAAYAAjCB0C8AAAAASUVORK5CYII=\" # Placeholder cho ảnh 1x1 pixel trắng\n",
    "\n",
    "image_input = {\n",
    "    \"bytesBase64Encoded\": image_data_base64,\n",
    "    \"mimeType\": \"image/png\"\n",
    "}\n",
    "prompt = \"\"\"\n",
    "**Prompt để sinh video:**\n",
    "\n",
    "```\n",
    "Tạo một video bản tin truyền hình có độ dài 80 giây, định dạng MP4, và độ phân giải Full HD (1920x1080 pixel). Video này sẽ tổng kết và phân tích các hoạt động chào mừng kỷ niệm 80 năm Quốc khánh Việt Nam (2/9/2025) trên cả nước.\n",
    "\n",
    "**Nội dung chính:**\n",
    "1.  **Mở đầu (5 giây):** Nhạc hiệu bản tin truyền hình, logo bản tin (tưởng tượng), sau đó chuyển cảnh sang MC ảo.\n",
    "2.  **MC dẫn dắt (10 giây):** MC ảo xuất hiện trong khung hình chuyên nghiệp của trường quay, giới thiệu chủ đề bản tin. Lời dẫn: \"Xin kính chào quý vị và các bạn. Trong bản tin đặc biệt ngày hôm nay, chúng ta sẽ cùng tổng kết và phân tích những hoạt động sôi nổi trên khắp cả nước chào mừng 80 năm Quốc khánh mùng 2 tháng 9 năm 2025.\"\n",
    "3.  **Điểm tin các hoạt động chính (45 giây):** Xen kẽ giữa cảnh MC và các đoạn phim ngắn (chỉ dùng ảnh tĩnh được ghép nối và chuyển cảnh mượt mà) minh họa các hoạt động.\n",
    "    *   **Phần 1: Nghi lễ và sự kiện chính trị (15 giây):** Trình bày các hình ảnh về các buổi lễ trang trọng, mít tinh, lễ dâng hương, hội nghị kỷ niệm tại các địa phương.\n",
    "    *   **Phần 2: Hoạt động văn hóa, nghệ thuật và thể thao (15 giây):** Trình bày các hình ảnh về các chương trình biểu diễn nghệ thuật, lễ hội, hoạt động thể thao, triển lãm, diễu hành... mang đậm bản sắc dân tộc và không khí lễ hội.\n",
    "    *   **Phần 3: Các hoạt động tri ân và an sinh xã hội (15 giây):** Trình bày các hình ảnh về các hoạt động thăm hỏi, tặng quà, xây dựng nhà tình nghĩa, khám chữa bệnh miễn phí... thể hiện tinh thần \"uống nước nhớ nguồn\" và sự quan tâm đến cộng đồng.\n",
    "4.  **Phân tích và đánh giá (15 giây):** MC ảo quay lại, tổng hợp, phân tích ý nghĩa và tác động của các hoạt động này đối với lòng yêu nước, đoàn kết dân tộc và sự phát triển đất nước. Lời dẫn cần nhấn mạnh tinh thần tự hào dân tộc và sự đồng lòng hướng tới tương lai.\n",
    "5.  **Kết thúc (5 giây):** MC chào tạm biệt, nhạc hiệu kết thúc bản tin, màn hình hiển thị logo và thông tin bản tin.\n",
    "\n",
    "**Yêu cầu về hình ảnh:**\n",
    "*   Sử dụng các hình ảnh tĩnh do AI tạo ra, mang phong cách ảnh báo chí, chân thực và chất lượng cao.\n",
    "*   Nội dung hình ảnh cần mô tả các hoạt động đa dạng trong lễ kỷ niệm 80 năm Quốc khánh Việt Nam, thể hiện rõ tính chất trang trọng, sôi nổi, và ý nghĩa của sự kiện.\n",
    "*   Tuyệt đối không sử dụng các đoạn video có sẵn.\n",
    "\n",
    "**Yêu cầu về MC và lời dẫn:**\n",
    "*   Sử dụng MC là nhân vật ảo, có phong thái chuyên nghiệp, giọng nói chuẩn, rõ ràng, truyền cảm.\n",
    "*   Lời dẫn phải chuẩn mực, trang trọng và truyền tải được không khí tự hào dân tộc.\n",
    "\n",
    "**Yêu cầu về âm thanh:**\n",
    "*   Nhạc nền phù hợp với thể loại bản tin thời sự, có tính trang trọng và khơi gợi tinh thần yêu nước. Nhạc hiệu mở đầu và kết thúc bản tin rõ ràng.\n",
    "*   Giọng MC rõ ràng, không bị lẫn tạp âm.\n",
    "\n",
    "**Lưu ý chung:**\n",
    "*   Video cần có sự chuyển cảnh mượt mà giữa các ảnh tĩnh và giữa các phân đoạn.\n",
    "*   Không thêm bất kỳ lớp văn bản (text overlay) nào lên video.\n",
    "*   Đảm bảo tính chân thực và chuyên nghiệp của một bản tin truyền hình.\n",
    "\"\"\"\n",
    "prompt = \"\"\"\n",
    "A modern news studio with a virtual anchor standing at the center.\n",
    "Large LED wall behind shows the national flag of Vietnam waving softly.\n",
    "Camera slowly zooms toward the anchor as she greets the audience.\n",
    "Cue: (Intro title and anchor name appear at this moment.)\n",
    "Lighting: balanced daylight tone with red–yellow accent from flag.\n",
    "Style: full HD, cinematic broadcast composition.\n",
    "\"\"\"\n",
    "# response_video_from_image = tao_video(\n",
    "#     model=\"veo-3.0-generate-001\",\n",
    "#     prompt=prompt,\n",
    "#     image=image_input,\n",
    "#     aspect_ratio=\"16:9\",\n",
    "#     person_generation=\"allow_all\"\n",
    "\n",
    "# response_video_from_image"
   ]
  },
  {
   "cell_type": "markdown",
   "id": "357ec3dc",
   "metadata": {},
   "source": [
    "### kiem_tra_trang_thai_video"
   ]
  },
  {
   "cell_type": "code",
   "execution_count": null,
   "id": "354d9ca1",
   "metadata": {},
   "outputs": [],
   "source": []
  },
  {
   "cell_type": "code",
   "execution_count": 7,
   "id": "003157d0",
   "metadata": {},
   "outputs": [
    {
     "name": "stderr",
     "output_type": "stream",
     "text": [
      "[2025-10-23 11:07:13,195] INFO - {\"timestamp\": \"2025-10-23T11:07:13.195823\", \"interaction_id\": \"dfc49754-556d-4311-8999-63786760cf75\", \"type\": \"request\", \"api_function\": \"kiem_tra_trang_thai_video\", \"data\": {\"url\": \"(URL not available for logging)\", \"headers\": {}, \"payload\": {\"operation_name\": \"models/veo-3.0-generate-001/operations/flyno2mfsnrh\"}}}\n"
     ]
    },
    {
     "name": "stdout",
     "output_type": "stream",
     "text": [
      "Kiểm tra trạng thái tạo video...\n"
     ]
    },
    {
     "name": "stderr",
     "output_type": "stream",
     "text": [
      "[2025-10-23 11:07:13,779] INFO - {\"timestamp\": \"2025-10-23T11:07:13.779329\", \"interaction_id\": \"dfc49754-556d-4311-8999-63786760cf75\", \"type\": \"response\", \"api_function\": \"kiem_tra_trang_thai_video\", \"data\": {\"status\": \"success\", \"result\": {\"name\": \"models/veo-3.0-generate-001/operations/flyno2mfsnrh\", \"done\": true, \"response\": {\"@type\": \"type.googleapis.com/google.ai.generativelanguage.v1beta.PredictLongRunningResponse\", \"generateVideoResponse\": {\"generatedSamples\": [{\"video\": {\"uri\": \"https://generativelanguage.googleapis.com/v1beta/files/s4gytftt5rk8:download?alt=media\"}}]}}}}}\n"
     ]
    },
    {
     "name": "stdout",
     "output_type": "stream",
     "text": [
      "Video đã hoàn thành!\n",
      "Video URI: https://generativelanguage.googleapis.com/v1beta/files/s4gytftt5rk8:download?alt=media\n",
      "Video ID: s4gytftt5rk8\n"
     ]
    }
   ],
   "source": [
    "print(\"Kiểm tra trạng thái tạo video...\")\n",
    "video_completed = False\n",
    "video_uri = None\n",
    "video_id = None\n",
    "\n",
    "\n",
    "operation_name_example = \"models/veo-3.0-generate-001/operations/flyno2mfsnrh\"\n",
    "\n",
    "while not video_completed:\n",
    "    try:\n",
    "        status_response = kiem_tra_trang_thai_video(operation_name=operation_name_example)\n",
    "        if status_response and status_response.get(\"done\"):\n",
    "            video_completed = True\n",
    "            print(\"Video đã hoàn thành!\")\n",
    "            if \"response\" in status_response and \"generateVideoResponse\" in status_response[\"response\"]:\n",
    "                generated_samples = status_response[\"response\"][\"generateVideoResponse\"].get(\"generatedSamples\", [])\n",
    "                if generated_samples:\n",
    "                    first_sample = generated_samples[0]\n",
    "                    if \"video\" in first_sample and \"uri\" in first_sample[\"video\"]:\n",
    "                        video_uri = first_sample[\"video\"][\"uri\"]\n",
    "                        # Trích xuất video_id từ URI\n",
    "                        video_id = video_uri.split('/')[-1].split(':')[0]\n",
    "                        print(f\"Video URI: {video_uri}\")\n",
    "                        print(f\"Video ID: {video_id}\")\n",
    "                    else:\n",
    "                        print(\"Không tìm thấy URI video trong phản hồi.\")\n",
    "                else:\n",
    "                    print(\"Không có mẫu video nào được tạo.\")\n",
    "            else:\n",
    "                print(\"Không tìm thấy thông tin phản hồi video trong trạng thái.\")\n",
    "        else:\n",
    "            print(\"Video đang được xử lý, chờ 10 giây...\")\n",
    "            time.sleep(10) # Chờ 10 giây trước khi kiểm tra lại\n",
    "    except Exception as e:\n",
    "        print(f\"Có lỗi xảy ra khi gọi hàm kiem_tra_trang_thai_video: {e}\")\n",
    "        exit()"
   ]
  },
  {
   "cell_type": "markdown",
   "id": "9197c7d8",
   "metadata": {},
   "source": [
    "### tai_xuong_video_hoan_thanh"
   ]
  },
  {
   "cell_type": "markdown",
   "id": "7cef63df",
   "metadata": {},
   "source": [
    "video_id = \"0va5nkudxl2p\""
   ]
  },
  {
   "cell_type": "code",
   "execution_count": null,
   "id": "23d99f57",
   "metadata": {},
   "outputs": [],
   "source": [
    "import os\n",
    "\n",
    "api_results_dir = \"/home/nampv1/projects/prepare_for_aitc/cooking/api_results\"\n",
    "output_dir = os.path.join(api_results_dir, \"tao_video\")\n",
    "\n",
    "# Bước 3: Tải video về\n",
    "if video_id:\n",
    "    \n",
    "    output_filepath = os.path.join(output_dir, f\"{video_id}.mp4\")\n",
    "\n",
    "    print(f\"Bắt đầu tải video về lưu tại: {output_filepath}\")\n",
    "    try:\n",
    "        download_result = tai_xuong_video_hoan_thanh(video_id=video_id, file_path=output_filepath)\n",
    "        print(download_result.get(\"message\", \"Lỗi không xác định khi tải video.\"))\n",
    "        if \"error\" in download_result:\n",
    "            print(f\"Chi tiết lỗi tải video: {download_result.get('details', 'Không có chi tiết.')}\")\n",
    "    except Exception as e:\n",
    "        print(f\"Lỗi nghiêm trọng khi gọi hàm tai_xuong_video_hoan_thanh: {e}\")\n",
    "else:\n",
    "    print(\"Không có ID video để tải về, bỏ qua bước tải video.\")\n",
    "\n",
    "print(\"Hoàn tất quy trình tạo và tải video.\")"
   ]
  }
 ],
 "metadata": {
  "kernelspec": {
   "display_name": "asr",
   "language": "python",
   "name": "python3"
  },
  "language_info": {
   "codemirror_mode": {
    "name": "ipython",
    "version": 3
   },
   "file_extension": ".py",
   "mimetype": "text/x-python",
   "name": "python",
   "nbconvert_exporter": "python",
   "pygments_lexer": "ipython3",
   "version": "3.11.13"
  }
 },
 "nbformat": 4,
 "nbformat_minor": 5
}
