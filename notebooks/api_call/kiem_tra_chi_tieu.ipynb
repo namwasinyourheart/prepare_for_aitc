{
 "cells": [
  {
   "cell_type": "code",
   "execution_count": 2,
   "id": "1b101f66",
   "metadata": {},
   "outputs": [],
   "source": [
    "import sys\n",
    "sys.path.append(\"/home/nampv1/projects/prepare_for_aitc/\")"
   ]
  },
  {
   "cell_type": "code",
   "execution_count": 3,
   "id": "02e4a83d",
   "metadata": {},
   "outputs": [],
   "source": [
    "from src.api_services.btc_api_client import *"
   ]
  },
  {
   "cell_type": "code",
   "execution_count": 8,
   "id": "111760be",
   "metadata": {},
   "outputs": [
    {
     "name": "stderr",
     "output_type": "stream",
     "text": [
      "[2025-10-23 11:19:33,177] INFO - {\"timestamp\": \"2025-10-23T11:19:33.177866\", \"interaction_id\": \"6b3df9ff-6d3b-464a-880b-89b447863f00\", \"type\": \"request\", \"api_function\": \"kiem_tra_chi_tieu\", \"data\": {\"url\": \"(URL not available for logging)\", \"headers\": {}, \"payload\": {}}}\n",
      "[2025-10-23 11:19:33,431] INFO - {\"timestamp\": \"2025-10-23T11:19:33.431003\", \"interaction_id\": \"6b3df9ff-6d3b-464a-880b-89b447863f00\", \"type\": \"response\", \"api_function\": \"kiem_tra_chi_tieu\", \"data\": {\"status\": \"success\", \"result\": {\"key\": \"c84a52e594414f0252dfe1362670b60ebfd746f0b397e2fe04b7ed06afe5d615\", \"info\": {\"key_name\": \"sk-...JZcw\", \"key_alias\": \"demo-86@key\", \"soft_budget_cooldown\": false, \"spend\": 6.500641250000006, \"expires\": null, \"models\": [\"all-team-models\"], \"aliases\": {}, \"config\": {}, \"user_id\": \"65923d78-a630-4ca2-945c-a9a6a1c22428\", \"team_id\": \"c33d3991-30ed-4af9-b06f-5fd87559053d\", \"permissions\": {}, \"max_parallel_requests\": null, \"metadata\": {}, \"blocked\": null, \"tpm_limit\": 750000, \"rpm_limit\": 200, \"max_budget\": 10.0, \"budget_duration\": null, \"budget_reset_at\": null, \"allowed_cache_controls\": [], \"allowed_routes\": [], \"model_spend\": {}, \"model_max_budget\": {}, \"budget_id\": null, \"organization_id\": null, \"object_permission_id\": null, \"created_at\": \"2025-10-19T01:59:55.708000+00:00\", \"created_by\": \"default_user_id\", \"updated_at\": \"2025-10-23T04:19:24.681000+00:00\", \"updated_by\": \"default_user_id\", \"rotation_count\": 0, \"auto_rotate\": false, \"rotation_interval\": null, \"last_rotation_at\": null, \"key_rotation_at\": null, \"litellm_budget_table\": null, \"litellm_organization_table\": null, \"object_permission\": null}}}}\n"
     ]
    },
    {
     "data": {
      "text/plain": [
       "{'key': 'c84a52e594414f0252dfe1362670b60ebfd746f0b397e2fe04b7ed06afe5d615',\n",
       " 'info': {'key_name': 'sk-...JZcw',\n",
       "  'key_alias': 'demo-86@key',\n",
       "  'soft_budget_cooldown': False,\n",
       "  'spend': 6.500641250000006,\n",
       "  'expires': None,\n",
       "  'models': ['all-team-models'],\n",
       "  'aliases': {},\n",
       "  'config': {},\n",
       "  'user_id': '65923d78-a630-4ca2-945c-a9a6a1c22428',\n",
       "  'team_id': 'c33d3991-30ed-4af9-b06f-5fd87559053d',\n",
       "  'permissions': {},\n",
       "  'max_parallel_requests': None,\n",
       "  'metadata': {},\n",
       "  'blocked': None,\n",
       "  'tpm_limit': 750000,\n",
       "  'rpm_limit': 200,\n",
       "  'max_budget': 10.0,\n",
       "  'budget_duration': None,\n",
       "  'budget_reset_at': None,\n",
       "  'allowed_cache_controls': [],\n",
       "  'allowed_routes': [],\n",
       "  'model_spend': {},\n",
       "  'model_max_budget': {},\n",
       "  'budget_id': None,\n",
       "  'organization_id': None,\n",
       "  'object_permission_id': None,\n",
       "  'created_at': '2025-10-19T01:59:55.708000+00:00',\n",
       "  'created_by': 'default_user_id',\n",
       "  'updated_at': '2025-10-23T04:19:24.681000+00:00',\n",
       "  'updated_by': 'default_user_id',\n",
       "  'rotation_count': 0,\n",
       "  'auto_rotate': False,\n",
       "  'rotation_interval': None,\n",
       "  'last_rotation_at': None,\n",
       "  'key_rotation_at': None,\n",
       "  'litellm_budget_table': None,\n",
       "  'litellm_organization_table': None,\n",
       "  'object_permission': None}}"
      ]
     },
     "execution_count": 8,
     "metadata": {},
     "output_type": "execute_result"
    }
   ],
   "source": [
    "# Gọi hàm để kiểm tra chi tiêu\n",
    "info = kiem_tra_chi_tieu()\n",
    "info"
   ]
  },
  {
   "cell_type": "code",
   "execution_count": null,
   "id": "b59b6fe2",
   "metadata": {},
   "outputs": [],
   "source": []
  }
 ],
 "metadata": {
  "kernelspec": {
   "display_name": "asr",
   "language": "python",
   "name": "python3"
  },
  "language_info": {
   "codemirror_mode": {
    "name": "ipython",
    "version": 3
   },
   "file_extension": ".py",
   "mimetype": "text/x-python",
   "name": "python",
   "nbconvert_exporter": "python",
   "pygments_lexer": "ipython3",
   "version": "3.11.13"
  }
 },
 "nbformat": 4,
 "nbformat_minor": 5
}
