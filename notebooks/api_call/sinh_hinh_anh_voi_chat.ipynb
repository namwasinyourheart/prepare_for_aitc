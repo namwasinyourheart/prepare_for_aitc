{
 "cells": [
  {
   "cell_type": "code",
   "execution_count": 1,
   "id": "4c374e48",
   "metadata": {},
   "outputs": [
    {
     "name": "stdout",
     "output_type": "stream",
     "text": [
      "/home/nampv1/projects/prepare_for_aitc\n"
     ]
    }
   ],
   "source": [
    "cd /home/nampv1/projects/prepare_for_aitc/"
   ]
  },
  {
   "cell_type": "code",
   "execution_count": 2,
   "id": "c224f28e",
   "metadata": {},
   "outputs": [],
   "source": [
    "import sys\n",
    "sys.path.append(\"/home/nampv1/projects/prepare_for_aitc/\")"
   ]
  },
  {
   "cell_type": "code",
   "execution_count": 3,
   "id": "07920401",
   "metadata": {},
   "outputs": [],
   "source": [
    "from src.api_services.btc_api_client import *"
   ]
  },
  {
   "cell_type": "markdown",
   "id": "727756d8",
   "metadata": {},
   "source": [
    "### sinh_hinh_anh_voi_chat"
   ]
  },
  {
   "cell_type": "code",
   "execution_count": 4,
   "id": "9e888b06",
   "metadata": {},
   "outputs": [],
   "source": [
    "import os\n",
    "api_results_dir = \"/home/nampv1/projects/prepare_for_aitc/cooking/api_results\""
   ]
  },
  {
   "cell_type": "code",
   "execution_count": 5,
   "id": "f7b351ef",
   "metadata": {},
   "outputs": [
    {
     "name": "stderr",
     "output_type": "stream",
     "text": [
      "[2025-10-23 10:44:31,079] INFO - {\"timestamp\": \"2025-10-23T10:44:31.079609\", \"interaction_id\": \"6acbc2c6-ddb8-4dc4-b216-f377728caffb\", \"type\": \"request\", \"api_function\": \"sinh_hinh_anh_voi_chat\", \"data\": {\"url\": \"(URL not available for logging)\", \"headers\": {}, \"payload\": {\"messages\": [{\"role\": \"user\", \"content\": \"Thung lũng ẩn giữa dãy núi tuyết, nơi có ngôi đền cổ bằng pha lê đang phát ra ánh sáng xanh lam nhạt, bao quanh là rừng cây khổng lồ với tán lá tỏa sáng nhẹ, phong cách fantasy siêu thực, chi tiết cực cao\"}], \"model\": \"gemini-2.5-flash-image-preview\", \"modalities\": [\"image\"]}, \"file_path\": \"/home/nampv1/projects/prepare_for_aitc/cooking/api_results/sinh_hinh_anh_voi_chat/chat_image_mountain.png\"}}\n",
      "[2025-10-23 10:44:32,598] ERROR - {\"timestamp\": \"2025-10-23T10:44:32.598020\", \"interaction_id\": \"6acbc2c6-ddb8-4dc4-b216-f377728caffb\", \"type\": \"error_response\", \"api_function\": \"sinh_hinh_anh_voi_chat\", \"data\": {\"status\": \"error\", \"error_message\": \"401 Client Error: Unauthorized for url: https://api.thucchien.ai/chat/completions\", \"response_text\": \"{\\\"error\\\":{\\\"message\\\":\\\"Authentication Error, All connection attempts failed\\\",\\\"type\\\":\\\"auth_error\\\",\\\"param\\\":\\\"None\\\",\\\"code\\\":\\\"401\\\"}}\", \"status_code\": 401}}\n"
     ]
    },
    {
     "ename": "HTTPError",
     "evalue": "401 Client Error: Unauthorized for url: https://api.thucchien.ai/chat/completions",
     "output_type": "error",
     "traceback": [
      "\u001b[31m---------------------------------------------------------------------------\u001b[39m",
      "\u001b[31mHTTPError\u001b[39m                                 Traceback (most recent call last)",
      "\u001b[36mCell\u001b[39m\u001b[36m \u001b[39m\u001b[32mIn[5]\u001b[39m\u001b[32m, line 11\u001b[39m\n\u001b[32m      7\u001b[39m output_image_chat_options_path = os.path.join(api_results_dir, \u001b[33m\"\u001b[39m\u001b[33msinh_hinh_anh_voi_chat\u001b[39m\u001b[33m\"\u001b[39m, filename)\n\u001b[32m      9\u001b[39m os.makedirs(os.path.dirname(output_image_chat_options_path), exist_ok=\u001b[38;5;28;01mTrue\u001b[39;00m) \n\u001b[32m---> \u001b[39m\u001b[32m11\u001b[39m response_image_chat_with_options = \u001b[43msinh_hinh_anh_voi_chat\u001b[49m\u001b[43m(\u001b[49m\n\u001b[32m     12\u001b[39m \u001b[43m    \u001b[49m\u001b[43mmessages\u001b[49m\u001b[43m=\u001b[49m\u001b[43mmessages_for_image_gen\u001b[49m\u001b[43m,\u001b[49m\n\u001b[32m     13\u001b[39m \u001b[43m    \u001b[49m\u001b[43mmodel\u001b[49m\u001b[43m=\u001b[49m\u001b[33;43m\"\u001b[39;49m\u001b[33;43mgemini-2.5-flash-image-preview\u001b[39;49m\u001b[33;43m\"\u001b[39;49m\u001b[43m,\u001b[49m\n\u001b[32m     14\u001b[39m \u001b[43m    \u001b[49m\u001b[43mmodalities\u001b[49m\u001b[43m=\u001b[49m\u001b[43m[\u001b[49m\u001b[33;43m\"\u001b[39;49m\u001b[33;43mimage\u001b[39;49m\u001b[33;43m\"\u001b[39;49m\u001b[43m]\u001b[49m\u001b[43m,\u001b[49m\n\u001b[32m     15\u001b[39m \u001b[43m    \u001b[49m\u001b[43mfile_path\u001b[49m\u001b[43m=\u001b[49m\u001b[43moutput_image_chat_options_path\u001b[49m\u001b[43m,\u001b[49m\n\u001b[32m     16\u001b[39m \u001b[43m)\u001b[49m\n\u001b[32m     17\u001b[39m \u001b[38;5;28mprint\u001b[39m(response_image_chat_with_options)\n",
      "\u001b[36mFile \u001b[39m\u001b[32m~/projects/prepare_for_aitc/src/api_services/btc_api_client.py:119\u001b[39m, in \u001b[36mlog_api_call.<locals>.wrapper\u001b[39m\u001b[34m(*args, **kwargs)\u001b[39m\n\u001b[32m    116\u001b[39m log_api_interaction(\u001b[33m\"\u001b[39m\u001b[33mrequest\u001b[39m\u001b[33m\"\u001b[39m, api_function_name, log_data_for_request, interaction_id)\n\u001b[32m    118\u001b[39m \u001b[38;5;28;01mtry\u001b[39;00m:\n\u001b[32m--> \u001b[39m\u001b[32m119\u001b[39m     result = \u001b[43mfunc\u001b[49m\u001b[43m(\u001b[49m\u001b[43m*\u001b[49m\u001b[43margs\u001b[49m\u001b[43m,\u001b[49m\u001b[43m \u001b[49m\u001b[43m*\u001b[49m\u001b[43m*\u001b[49m\u001b[43mkwargs\u001b[49m\u001b[43m)\u001b[49m\n\u001b[32m    120\u001b[39m     \u001b[38;5;66;03m# Ghi log response thành công\u001b[39;00m\n\u001b[32m    121\u001b[39m     log_data_for_response = {\n\u001b[32m    122\u001b[39m         \u001b[33m\"\u001b[39m\u001b[33mstatus\u001b[39m\u001b[33m\"\u001b[39m: \u001b[33m\"\u001b[39m\u001b[33msuccess\u001b[39m\u001b[33m\"\u001b[39m,\n\u001b[32m    123\u001b[39m         \u001b[33m\"\u001b[39m\u001b[33mresult\u001b[39m\u001b[33m\"\u001b[39m: result\n\u001b[32m    124\u001b[39m     }\n",
      "\u001b[36mFile \u001b[39m\u001b[32m~/projects/prepare_for_aitc/src/api_services/btc_api_client.py:339\u001b[39m, in \u001b[36msinh_hinh_anh_voi_chat\u001b[39m\u001b[34m(messages, file_path, model, modalities, **kwargs)\u001b[39m\n\u001b[32m    331\u001b[39m payload = {\n\u001b[32m    332\u001b[39m     \u001b[33m\"\u001b[39m\u001b[33mmodel\u001b[39m\u001b[33m\"\u001b[39m: model,\n\u001b[32m    333\u001b[39m     \u001b[33m\"\u001b[39m\u001b[33mmessages\u001b[39m\u001b[33m\"\u001b[39m: messages,\n\u001b[32m    334\u001b[39m     \u001b[33m\"\u001b[39m\u001b[33mmodalities\u001b[39m\u001b[33m\"\u001b[39m: modalities,\n\u001b[32m    335\u001b[39m     **kwargs\n\u001b[32m    336\u001b[39m }\n\u001b[32m    338\u001b[39m response = requests.post(url, headers=headers, json=payload)\n\u001b[32m--> \u001b[39m\u001b[32m339\u001b[39m \u001b[43mresponse\u001b[49m\u001b[43m.\u001b[49m\u001b[43mraise_for_status\u001b[49m\u001b[43m(\u001b[49m\u001b[43m)\u001b[49m\n\u001b[32m    340\u001b[39m response_json = response.json()\n\u001b[32m    342\u001b[39m \u001b[38;5;28;01mif\u001b[39;00m \u001b[33m\"\u001b[39m\u001b[33mchoices\u001b[39m\u001b[33m\"\u001b[39m \u001b[38;5;129;01min\u001b[39;00m response_json \u001b[38;5;129;01mand\u001b[39;00m response_json[\u001b[33m\"\u001b[39m\u001b[33mchoices\u001b[39m\u001b[33m\"\u001b[39m]:\n",
      "\u001b[36mFile \u001b[39m\u001b[32m~/anaconda3/envs/asr/lib/python3.11/site-packages/requests/models.py:1026\u001b[39m, in \u001b[36mResponse.raise_for_status\u001b[39m\u001b[34m(self)\u001b[39m\n\u001b[32m   1021\u001b[39m     http_error_msg = (\n\u001b[32m   1022\u001b[39m         \u001b[33mf\u001b[39m\u001b[33m\"\u001b[39m\u001b[38;5;132;01m{\u001b[39;00m\u001b[38;5;28mself\u001b[39m.status_code\u001b[38;5;132;01m}\u001b[39;00m\u001b[33m Server Error: \u001b[39m\u001b[38;5;132;01m{\u001b[39;00mreason\u001b[38;5;132;01m}\u001b[39;00m\u001b[33m for url: \u001b[39m\u001b[38;5;132;01m{\u001b[39;00m\u001b[38;5;28mself\u001b[39m.url\u001b[38;5;132;01m}\u001b[39;00m\u001b[33m\"\u001b[39m\n\u001b[32m   1023\u001b[39m     )\n\u001b[32m   1025\u001b[39m \u001b[38;5;28;01mif\u001b[39;00m http_error_msg:\n\u001b[32m-> \u001b[39m\u001b[32m1026\u001b[39m     \u001b[38;5;28;01mraise\u001b[39;00m HTTPError(http_error_msg, response=\u001b[38;5;28mself\u001b[39m)\n",
      "\u001b[31mHTTPError\u001b[39m: 401 Client Error: Unauthorized for url: https://api.thucchien.ai/chat/completions"
     ]
    }
   ],
   "source": [
    "messages_for_image_gen = [\n",
    "    {\"role\": \"user\", \"content\": \"Thung lũng ẩn giữa dãy núi tuyết, nơi có ngôi đền cổ bằng pha lê đang phát ra ánh sáng xanh lam nhạt, bao quanh là rừng cây khổng lồ với tán lá tỏa sáng nhẹ, phong cách fantasy siêu thực, chi tiết cực cao\"}\n",
    "]\n",
    "\n",
    "filename = \"chat_image_mountain.png\"\n",
    "\n",
    "output_image_chat_options_path = os.path.join(api_results_dir, \"sinh_hinh_anh_voi_chat\", filename)\n",
    "\n",
    "os.makedirs(os.path.dirname(output_image_chat_options_path), exist_ok=True) \n",
    "\n",
    "response_image_chat_with_options = sinh_hinh_anh_voi_chat(\n",
    "    messages=messages_for_image_gen,\n",
    "    model=\"gemini-2.5-flash-image-preview\",\n",
    "    modalities=[\"image\"],\n",
    "    file_path=output_image_chat_options_path,\n",
    ")\n",
    "print(response_image_chat_with_options)"
   ]
  },
  {
   "cell_type": "markdown",
   "id": "422f78fe",
   "metadata": {},
   "source": [
    "### Thêm các tham số khác"
   ]
  },
  {
   "cell_type": "code",
   "execution_count": null,
   "id": "3e0c9aa0",
   "metadata": {},
   "outputs": [],
   "source": [
    "filename = \"chat_image_mountain_2.png\"\n",
    "\n",
    "output_image_chat_options_path = os.path.join(api_results_dir, \"sinh_hinh_anh_voi_chat\", filename)\n",
    "\n",
    "response_image_chat_with_options = sinh_hinh_anh_voi_chat(\n",
    "    messages=messages_for_image_gen,\n",
    "    model=\"gemini-2.5-flash-image-preview\",\n",
    "    modalities=[\"image\"],\n",
    "    file_path=output_image_chat_options_path,\n",
    "    temperature=0.7, # Ví dụ về một kwargs abổ sung\n",
    "    top_p=0.9\n",
    ")\n",
    "print(response_image_chat_with_options)"
   ]
  }
 ],
 "metadata": {
  "kernelspec": {
   "display_name": "asr",
   "language": "python",
   "name": "python3"
  },
  "language_info": {
   "codemirror_mode": {
    "name": "ipython",
    "version": 3
   },
   "file_extension": ".py",
   "mimetype": "text/x-python",
   "name": "python",
   "nbconvert_exporter": "python",
   "pygments_lexer": "ipython3",
   "version": "3.11.13"
  }
 },
 "nbformat": 4,
 "nbformat_minor": 5
}
