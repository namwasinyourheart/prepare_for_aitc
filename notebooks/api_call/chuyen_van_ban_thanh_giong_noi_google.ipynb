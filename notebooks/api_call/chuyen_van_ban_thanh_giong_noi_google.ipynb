{
 "cells": [
  {
   "cell_type": "code",
   "execution_count": 1,
   "id": "b945270f",
   "metadata": {},
   "outputs": [
    {
     "name": "stdout",
     "output_type": "stream",
     "text": [
      "/home/nampv1/projects/prepare_for_aitc\n"
     ]
    }
   ],
   "source": [
    "cd /home/nampv1/projects/prepare_for_aitc/"
   ]
  },
  {
   "cell_type": "code",
   "execution_count": 2,
   "id": "f3bb1e32",
   "metadata": {},
   "outputs": [],
   "source": [
    "import sys\n",
    "sys.path.append(\"/home/nampv1/projects/prepare_for_aitc/\")"
   ]
  },
  {
   "cell_type": "code",
   "execution_count": 3,
   "id": "507b1f0b",
   "metadata": {},
   "outputs": [],
   "source": [
    "from src.api_services.btc_api_client import *"
   ]
  },
  {
   "cell_type": "code",
   "execution_count": 4,
   "id": "3700bb56",
   "metadata": {},
   "outputs": [],
   "source": [
    "import os\n",
    "api_results_dir = \"/home/nampv1/projects/prepare_for_aitc/cooking/api_results\""
   ]
  },
  {
   "cell_type": "code",
   "execution_count": 7,
   "id": "c2a621bf",
   "metadata": {},
   "outputs": [
    {
     "name": "stderr",
     "output_type": "stream",
     "text": [
      "[2025-10-23 10:55:35,898] INFO - {\"timestamp\": \"2025-10-23T10:55:35.898501\", \"interaction_id\": \"9722099b-dfbb-44e3-96cb-6f8e692e0dc5\", \"type\": \"request\", \"api_function\": \"chuyen_van_ban_thanh_giong_noi_voi_google\", \"data\": {\"url\": \"(URL not available for logging)\", \"headers\": {}, \"payload\": {\"model\": \"gemini-2.5-flash-preview-tts\", \"contents\": [{\"parts\": [{\"text\": \"Say cheerfully: Have a wonderful day!\"}]}], \"generation_config\": {\"responseModalities\": [\"AUDIO\"], \"speechConfig\": {\"voiceConfig\": {\"prebuiltVoiceConfig\": {\"voiceName\": \"Kore\"}}}}}, \"file_path\": \"/home/nampv1/projects/prepare_for_aitc/cooking/api_results/chuyen_van_ban_thanh_giong_noi/single_speaker_kore\"}}\n"
     ]
    },
    {
     "name": "stdout",
     "output_type": "stream",
     "text": [
      "Bắt đầu chuyển văn bản thành giọng nói (một người nói)...\n"
     ]
    },
    {
     "name": "stderr",
     "output_type": "stream",
     "text": [
      "[2025-10-23 10:55:39,268] INFO - {\"timestamp\": \"2025-10-23T10:55:39.268558\", \"interaction_id\": \"9722099b-dfbb-44e3-96cb-6f8e692e0dc5\", \"type\": \"response\", \"api_function\": \"chuyen_van_ban_thanh_giong_noi_voi_google\", \"data\": {\"status\": \"success\", \"result\": {\"success\": true, \"message\": \"File âm thanh đã được tải về và chuyển đổi thành công sang MP3 tại: /home/nampv1/projects/prepare_for_aitc/cooking/api_results/chuyen_van_ban_thanh_giong_noi/single_speaker_kore.mp3\"}}}\n"
     ]
    },
    {
     "name": "stdout",
     "output_type": "stream",
     "text": [
      "File âm thanh đã được tải về và chuyển đổi thành công sang MP3 tại: /home/nampv1/projects/prepare_for_aitc/cooking/api_results/chuyen_van_ban_thanh_giong_noi/single_speaker_kore.mp3\n",
      "\n",
      "\n"
     ]
    }
   ],
   "source": [
    "import os\n",
    "import base64\n",
    "\n",
    "# Đảm bảo thư mục lưu trữ tồn tại\n",
    "output_audio_dir = os.path.join(api_results_dir, \"chuyen_van_ban_thanh_giong_noi\")\n",
    "# os.makedirs(output_audio_dir, exist_ok=True)\n",
    "\n",
    "# Chỉ định tên tệp mà không cần đuôi mở rộng, hàm sẽ tự thêm vào\n",
    "output_audio_filepath_single_base = os.path.join(output_audio_dir, \"single_speaker_kore\")\n",
    "\n",
    "# Ví dụ một người nói (Single-speaker)\n",
    "print(\"Bắt đầu chuyển văn bản thành giọng nói (một người nói)...\")\n",
    "contents_single_speaker = [\n",
    "    {\"parts\": [{\"text\": \"Say cheerfully: Have a wonderful day!\"}]}\n",
    "]\n",
    "generation_config_single_speaker = {\n",
    "    \"responseModalities\": [\"AUDIO\"],\n",
    "    \"speechConfig\": {\n",
    "        \"voiceConfig\": {\n",
    "            \"prebuiltVoiceConfig\": {\n",
    "                \"voiceName\": \"Kore\"\n",
    "            }\n",
    "        }\n",
    "    }\n",
    "}\n",
    "\n",
    "try:\n",
    "    speech_result_single = chuyen_van_ban_thanh_giong_noi_voi_google(\n",
    "        model=\"gemini-2.5-flash-preview-tts\",\n",
    "        contents=contents_single_speaker,\n",
    "        file_path=output_audio_filepath_single_base,\n",
    "        generation_config=generation_config_single_speaker\n",
    "    )\n",
    "    print(speech_result_single.get(\"message\", \"Lỗi không xác định khi chuyển văn bản thành giọng nói (một người nói).\"))\n",
    "    if \"error\" in speech_result_single:\n",
    "        print(f\"Chi tiết lỗi: {speech_result_single.get('details', 'Không có chi tiết.')}\")\n",
    "except Exception as e:\n",
    "    print(f\"Lỗi nghiêm trọng khi gọi hàm chuyen_van_ban_thanh_giong_noi_voi_google (một người nói): {e}\")\n",
    "\n",
    "print(\"\\n\")\n",
    "\n"
   ]
  },
  {
   "cell_type": "code",
   "execution_count": 6,
   "id": "a7188a5c",
   "metadata": {},
   "outputs": [
    {
     "name": "stderr",
     "output_type": "stream",
     "text": [
      "[2025-10-23 10:55:07,706] INFO - {\"timestamp\": \"2025-10-23T10:55:07.706065\", \"interaction_id\": \"11abbbc1-eaff-4531-8324-3159ad9a6690\", \"type\": \"request\", \"api_function\": \"chuyen_van_ban_thanh_giong_noi_voi_google\", \"data\": {\"url\": \"(URL not available for logging)\", \"headers\": {}, \"payload\": {\"model\": \"gemini-2.5-flash-preview-tts\", \"contents\": [{\"parts\": [{\"text\": \"Make Joe sound tired and bored, and Jane sound excited and happy: Speaker1: So... what's on the agenda today? Speaker2: You're never going to guess!\"}]}], \"generation_config\": {\"responseModalities\": [\"AUDIO\"], \"speechConfig\": {\"multiSpeakerVoiceConfig\": {\"speakerVoiceConfigs\": [{\"speaker\": \"Speaker1\", \"voiceConfig\": {\"prebuiltVoiceConfig\": {\"voiceName\": \"Kore\"}}}, {\"speaker\": \"Speaker2\", \"voiceConfig\": {\"prebuiltVoiceConfig\": {\"voiceName\": \"Puck\"}}}]}}}}, \"file_path\": \"/home/nampv1/projects/prepare_for_aitc/cooking/api_results/chuyen_van_ban_thanh_giong_noi/multi_speaker_chat\"}}\n"
     ]
    },
    {
     "name": "stdout",
     "output_type": "stream",
     "text": [
      "Bắt đầu chuyển văn bản thành giọng nói (nhiều người nói)...\n"
     ]
    },
    {
     "name": "stderr",
     "output_type": "stream",
     "text": [
      "[2025-10-23 10:55:14,363] INFO - {\"timestamp\": \"2025-10-23T10:55:14.363213\", \"interaction_id\": \"11abbbc1-eaff-4531-8324-3159ad9a6690\", \"type\": \"response\", \"api_function\": \"chuyen_van_ban_thanh_giong_noi_voi_google\", \"data\": {\"status\": \"success\", \"result\": {\"success\": true, \"message\": \"File âm thanh đã được tải về và chuyển đổi thành công sang MP3 tại: /home/nampv1/projects/prepare_for_aitc/cooking/api_results/chuyen_van_ban_thanh_giong_noi/multi_speaker_chat.mp3\"}}}\n"
     ]
    },
    {
     "name": "stdout",
     "output_type": "stream",
     "text": [
      "File âm thanh đã được tải về và chuyển đổi thành công sang MP3 tại: /home/nampv1/projects/prepare_for_aitc/cooking/api_results/chuyen_van_ban_thanh_giong_noi/multi_speaker_chat.mp3\n",
      "\n",
      "Hoàn tất quy trình chuyển văn bản thành giọng nói với Google Gemini.\n"
     ]
    }
   ],
   "source": [
    "# Chỉ định tên tệp mà không cần đuôi mở rộng\n",
    "output_audio_dir = os.path.join(api_results_dir, \"chuyen_van_ban_thanh_giong_noi\")\n",
    "# os.makedirs(output_audio_dir, exist_ok=True)\n",
    "\n",
    "# Chỉ định tên tệp mà không cần đuôi mở rộng, hàm sẽ tự thêm vào\n",
    "\n",
    "output_audio_filepath_multi_base = os.path.join(output_audio_dir, \"multi_speaker_chat\")\n",
    "\n",
    "\n",
    "# Ví dụ nhiều người nói (Multi-speaker)\n",
    "print(\"Bắt đầu chuyển văn bản thành giọng nói (nhiều người nói)...\")\n",
    "contents_multi_speaker = [\n",
    "    {\"parts\": [{\"text\": \"Make Joe sound tired and bored, and Jane sound excited and happy: Speaker1: So... what's on the agenda today? Speaker2: You're never going to guess!\"}]}\n",
    "]\n",
    "generation_config_multi_speaker = {\n",
    "    \"responseModalities\": [\"AUDIO\"],\n",
    "    \"speechConfig\": {\n",
    "        \"multiSpeakerVoiceConfig\": {\n",
    "            \"speakerVoiceConfigs\": [{\n",
    "                \"speaker\": \"Speaker1\", # Tên người nói phải khớp với tên trong prompt\n",
    "                \"voiceConfig\": {\n",
    "                    \"prebuiltVoiceConfig\": {\n",
    "                        \"voiceName\": \"Kore\"\n",
    "                    }\n",
    "                }\n",
    "            }, {\n",
    "                \"speaker\": \"Speaker2\", # Tên người nói phải khớp với tên trong prompt\n",
    "                \"voiceConfig\": {\n",
    "                    \"prebuiltVoiceConfig\": {\n",
    "                        \"voiceName\": \"Puck\"\n",
    "                    }\n",
    "                }\n",
    "            }]\n",
    "        }\n",
    "    }\n",
    "}\n",
    "\n",
    "try:\n",
    "    speech_result_multi = chuyen_van_ban_thanh_giong_noi_voi_google(\n",
    "        model=\"gemini-2.5-flash-preview-tts\",\n",
    "        contents=contents_multi_speaker,\n",
    "        file_path=output_audio_filepath_multi_base,\n",
    "        generation_config=generation_config_multi_speaker\n",
    "    )\n",
    "    print(speech_result_multi.get(\"message\", \"Lỗi không xác định khi chuyển văn bản thành giọng nói (nhiều người nói).\"))\n",
    "    if \"error\" in speech_result_multi:\n",
    "        print(f\"Chi tiết lỗi: {speech_result_multi.get('details', 'Không có chi tiết.')}\")\n",
    "except Exception as e:\n",
    "    print(f\"Lỗi nghiêm trọng khi gọi hàm chuyen_van_ban_thanh_giong_noi_voi_google (nhiều người nói): {e}\")\n",
    "\n",
    "print(\"\\nHoàn tất quy trình chuyển văn bản thành giọng nói với Google Gemini.\")"
   ]
  },
  {
   "cell_type": "code",
   "execution_count": null,
   "id": "7ebcc597",
   "metadata": {},
   "outputs": [],
   "source": []
  }
 ],
 "metadata": {
  "kernelspec": {
   "display_name": "asr",
   "language": "python",
   "name": "python3"
  },
  "language_info": {
   "codemirror_mode": {
    "name": "ipython",
    "version": 3
   },
   "file_extension": ".py",
   "mimetype": "text/x-python",
   "name": "python",
   "nbconvert_exporter": "python",
   "pygments_lexer": "ipython3",
   "version": "3.11.13"
  }
 },
 "nbformat": 4,
 "nbformat_minor": 5
}
