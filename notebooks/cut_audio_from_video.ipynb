{
 "cells": [
  {
   "cell_type": "code",
   "execution_count": 1,
   "id": "7268b748",
   "metadata": {},
   "outputs": [],
   "source": [
    "import sys\n",
    "sys.path.append(\"/home/nampv1/projects/prepare_for_aitc/\")"
   ]
  },
  {
   "cell_type": "code",
   "execution_count": 3,
   "id": "94f92fdb",
   "metadata": {},
   "outputs": [
    {
     "name": "stdout",
     "output_type": "stream",
     "text": [
      "MoviePy - Writing audio in /home/nampv1/projects/prepare_for_aitc/notebooks/outputs/generated_videos/my_generated_video_0va5nkudxl2p.mp3\n",
      "MoviePy - Done.                                                                 \n",
      "Audio extracted and saved to /home/nampv1/projects/prepare_for_aitc/notebooks/outputs/generated_videos/my_generated_video_0va5nkudxl2p.mp3\n"
     ]
    }
   ],
   "source": [
    "!python ../src/video_processing/audio_extractor.py"
   ]
  },
  {
   "cell_type": "code",
   "execution_count": null,
   "id": "adbf1fc4",
   "metadata": {},
   "outputs": [],
   "source": []
  }
 ],
 "metadata": {
  "kernelspec": {
   "display_name": "asr",
   "language": "python",
   "name": "python3"
  },
  "language_info": {
   "codemirror_mode": {
    "name": "ipython",
    "version": 3
   },
   "file_extension": ".py",
   "mimetype": "text/x-python",
   "name": "python",
   "nbconvert_exporter": "python",
   "pygments_lexer": "ipython3",
   "version": "3.11.13"
  }
 },
 "nbformat": 4,
 "nbformat_minor": 5
}
